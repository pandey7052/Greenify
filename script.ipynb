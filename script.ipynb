{
 "cells": [
  {
   "cell_type": "code",
   "execution_count": 1,
   "metadata": {},
   "outputs": [],
   "source": [
    "import pandas as pd"
   ]
  },
  {
   "cell_type": "code",
   "execution_count": 2,
   "metadata": {},
   "outputs": [],
   "source": [
    "mega = pd.read_excel('datasets/Mega-what.xlsx')"
   ]
  },
  {
   "cell_type": "code",
   "execution_count": 4,
   "metadata": {},
   "outputs": [
    {
     "data": {
      "text/html": [
       "<div>\n",
       "<style scoped>\n",
       "    .dataframe tbody tr th:only-of-type {\n",
       "        vertical-align: middle;\n",
       "    }\n",
       "\n",
       "    .dataframe tbody tr th {\n",
       "        vertical-align: top;\n",
       "    }\n",
       "\n",
       "    .dataframe thead th {\n",
       "        text-align: right;\n",
       "    }\n",
       "</style>\n",
       "<table border=\"1\" class=\"dataframe\">\n",
       "  <thead>\n",
       "    <tr style=\"text-align: right;\">\n",
       "      <th></th>\n",
       "      <th>Daily MWh</th>\n",
       "      <th>name</th>\n",
       "      <th>type</th>\n",
       "      <th>location</th>\n",
       "      <th>note</th>\n",
       "      <th>size (km2)</th>\n",
       "      <th>barrels of oil equivalent</th>\n",
       "      <th>Unnamed: 7</th>\n",
       "      <th>MW</th>\n",
       "      <th>capacity factor</th>\n",
       "      <th>operational hours per day</th>\n",
       "      <th>Unnamed: 11</th>\n",
       "      <th>data year</th>\n",
       "      <th>source name</th>\n",
       "      <th>source date</th>\n",
       "      <th>source 1 URL</th>\n",
       "      <th>source 2 URL</th>\n",
       "      <th>Unnamed: 17</th>\n",
       "    </tr>\n",
       "  </thead>\n",
       "  <tbody>\n",
       "    <tr>\n",
       "      <th>0</th>\n",
       "      <td>1093.481400</td>\n",
       "      <td>Atikokan-G1</td>\n",
       "      <td>Biomass</td>\n",
       "      <td>Canada</td>\n",
       "      <td>NaN</td>\n",
       "      <td>NaN</td>\n",
       "      <td>94.265638</td>\n",
       "      <td>NaN</td>\n",
       "      <td>215.0</td>\n",
       "      <td>0.211915</td>\n",
       "      <td>24.0</td>\n",
       "      <td>NaN</td>\n",
       "      <td>2014.0</td>\n",
       "      <td>Natural Resources Canada</td>\n",
       "      <td>NaN</td>\n",
       "      <td>http://ftp.maps.canada.ca/pub/nacei_cnaie/ener...</td>\n",
       "      <td>NaN</td>\n",
       "      <td>NaN</td>\n",
       "    </tr>\n",
       "    <tr>\n",
       "      <th>1</th>\n",
       "      <td>1729.075680</td>\n",
       "      <td>MONTES DEL PLATA</td>\n",
       "      <td>Biomass</td>\n",
       "      <td>Uruguay</td>\n",
       "      <td>NaN</td>\n",
       "      <td>NaN</td>\n",
       "      <td>149.058248</td>\n",
       "      <td>NaN</td>\n",
       "      <td>180.0</td>\n",
       "      <td>0.400249</td>\n",
       "      <td>24.0</td>\n",
       "      <td>NaN</td>\n",
       "      <td>2014.0</td>\n",
       "      <td>La Administración Nacional de Usinas y Trasmis...</td>\n",
       "      <td>NaN</td>\n",
       "      <td>https://www.ute.com.uy/SgePublico/mapa.aspx</td>\n",
       "      <td>NaN</td>\n",
       "      <td>NaN</td>\n",
       "    </tr>\n",
       "    <tr>\n",
       "      <th>2</th>\n",
       "      <td>2064.241133</td>\n",
       "      <td>Aracruz</td>\n",
       "      <td>Biomass</td>\n",
       "      <td>Brazil</td>\n",
       "      <td>NaN</td>\n",
       "      <td>NaN</td>\n",
       "      <td>177.951822</td>\n",
       "      <td>NaN</td>\n",
       "      <td>210.4</td>\n",
       "      <td>0.408793</td>\n",
       "      <td>24.0</td>\n",
       "      <td>NaN</td>\n",
       "      <td>2014.0</td>\n",
       "      <td>Agência Nacional de Energia Elétrica (Brazil)</td>\n",
       "      <td>NaN</td>\n",
       "      <td>http://www2.aneel.gov.br/aplicacoes/capacidade...</td>\n",
       "      <td>NaN</td>\n",
       "      <td>NaN</td>\n",
       "    </tr>\n",
       "    <tr>\n",
       "      <th>3</th>\n",
       "      <td>2214.000000</td>\n",
       "      <td>Polaniec</td>\n",
       "      <td>Biomass</td>\n",
       "      <td>Poland</td>\n",
       "      <td>powered by agricultural byproducts and wood re...</td>\n",
       "      <td>NaN</td>\n",
       "      <td>190.862069</td>\n",
       "      <td>NaN</td>\n",
       "      <td>205.0</td>\n",
       "      <td>0.450000</td>\n",
       "      <td>24.0</td>\n",
       "      <td>NaN</td>\n",
       "      <td>NaN</td>\n",
       "      <td>https://en.wikipedia.org/wiki/Po%C5%82aniec_Po...</td>\n",
       "      <td>NaN</td>\n",
       "      <td>NaN</td>\n",
       "      <td>NaN</td>\n",
       "      <td>NaN</td>\n",
       "    </tr>\n",
       "    <tr>\n",
       "      <th>4</th>\n",
       "      <td>2773.110600</td>\n",
       "      <td>Toppila 1 ja 2</td>\n",
       "      <td>Biomass</td>\n",
       "      <td>Finland</td>\n",
       "      <td>NaN</td>\n",
       "      <td>NaN</td>\n",
       "      <td>239.061259</td>\n",
       "      <td>NaN</td>\n",
       "      <td>195.0</td>\n",
       "      <td>0.592545</td>\n",
       "      <td>24.0</td>\n",
       "      <td>NaN</td>\n",
       "      <td>2014.0</td>\n",
       "      <td>Finnish Energy Authority</td>\n",
       "      <td>NaN</td>\n",
       "      <td>http://www.energiavirasto.fi/en/voimalaitosrek...</td>\n",
       "      <td>NaN</td>\n",
       "      <td>NaN</td>\n",
       "    </tr>\n",
       "    <tr>\n",
       "      <th>...</th>\n",
       "      <td>...</td>\n",
       "      <td>...</td>\n",
       "      <td>...</td>\n",
       "      <td>...</td>\n",
       "      <td>...</td>\n",
       "      <td>...</td>\n",
       "      <td>...</td>\n",
       "      <td>...</td>\n",
       "      <td>...</td>\n",
       "      <td>...</td>\n",
       "      <td>...</td>\n",
       "      <td>...</td>\n",
       "      <td>...</td>\n",
       "      <td>...</td>\n",
       "      <td>...</td>\n",
       "      <td>...</td>\n",
       "      <td>...</td>\n",
       "      <td>...</td>\n",
       "    </tr>\n",
       "    <tr>\n",
       "      <th>100</th>\n",
       "      <td>11520.000000</td>\n",
       "      <td>Hornsea Wind Farm (current)</td>\n",
       "      <td>Wind</td>\n",
       "      <td>UK</td>\n",
       "      <td>offshore</td>\n",
       "      <td>NaN</td>\n",
       "      <td>993.103448</td>\n",
       "      <td>NaN</td>\n",
       "      <td>1200.0</td>\n",
       "      <td>0.400000</td>\n",
       "      <td>24.0</td>\n",
       "      <td>NaN</td>\n",
       "      <td>NaN</td>\n",
       "      <td>Ars Technica</td>\n",
       "      <td>NaN</td>\n",
       "      <td>https://arstechnica.com/science/2016/08/world-...</td>\n",
       "      <td>https://arstechnica.com/science/2016/08/world-...</td>\n",
       "      <td>NaN</td>\n",
       "    </tr>\n",
       "    <tr>\n",
       "      <th>101</th>\n",
       "      <td>24000.000000</td>\n",
       "      <td>Gansu Wind Farm</td>\n",
       "      <td>Wind</td>\n",
       "      <td>China</td>\n",
       "      <td>onshore</td>\n",
       "      <td>NaN</td>\n",
       "      <td>2068.965517</td>\n",
       "      <td>NaN</td>\n",
       "      <td>NaN</td>\n",
       "      <td>NaN</td>\n",
       "      <td>NaN</td>\n",
       "      <td>NaN</td>\n",
       "      <td>NaN</td>\n",
       "      <td>Our World in Data</td>\n",
       "      <td>NaN</td>\n",
       "      <td>NaN</td>\n",
       "      <td>NaN</td>\n",
       "      <td>NaN</td>\n",
       "    </tr>\n",
       "    <tr>\n",
       "      <th>102</th>\n",
       "      <td>28800.000000</td>\n",
       "      <td>Greater Changhau</td>\n",
       "      <td>Wind</td>\n",
       "      <td>Taiwan</td>\n",
       "      <td>offshore</td>\n",
       "      <td>NaN</td>\n",
       "      <td>2482.758621</td>\n",
       "      <td>NaN</td>\n",
       "      <td>2400.0</td>\n",
       "      <td>0.500000</td>\n",
       "      <td>24.0</td>\n",
       "      <td>NaN</td>\n",
       "      <td>NaN</td>\n",
       "      <td>Lu, Xi &amp; B. McElroy, Michael &amp; Nielsen, Chris ...</td>\n",
       "      <td>NaN</td>\n",
       "      <td>https://www.researchgate.net/figure/Distributi...</td>\n",
       "      <td>https://www.researchgate.net/figure/Distributi...</td>\n",
       "      <td>https://orsted.com/en/Company-Announcement-Lis...</td>\n",
       "    </tr>\n",
       "    <tr>\n",
       "      <th>103</th>\n",
       "      <td>46080.000000</td>\n",
       "      <td>Dogger Bank</td>\n",
       "      <td>Wind</td>\n",
       "      <td>UK</td>\n",
       "      <td>offshore, finished in 2025, 23041 MWh calc bas...</td>\n",
       "      <td>NaN</td>\n",
       "      <td>3972.413793</td>\n",
       "      <td>NaN</td>\n",
       "      <td>4800.0</td>\n",
       "      <td>0.400000</td>\n",
       "      <td>24.0</td>\n",
       "      <td>NaN</td>\n",
       "      <td>NaN</td>\n",
       "      <td>Forewind</td>\n",
       "      <td>NaN</td>\n",
       "      <td>http://www.forewind.co.uk/uploads/files/Creyke...</td>\n",
       "      <td>https://en.wikipedia.org/wiki/Dogger_Bank_Wind...</td>\n",
       "      <td>NaN</td>\n",
       "    </tr>\n",
       "    <tr>\n",
       "      <th>104</th>\n",
       "      <td>57600.000000</td>\n",
       "      <td>Hornsea Wind Farm (eventual)</td>\n",
       "      <td>Wind</td>\n",
       "      <td>UK</td>\n",
       "      <td>offshore</td>\n",
       "      <td>480</td>\n",
       "      <td>4965.517241</td>\n",
       "      <td>NaN</td>\n",
       "      <td>6000.0</td>\n",
       "      <td>0.400000</td>\n",
       "      <td>24.0</td>\n",
       "      <td>NaN</td>\n",
       "      <td>NaN</td>\n",
       "      <td>Ars Technica</td>\n",
       "      <td>NaN</td>\n",
       "      <td>https://arstechnica.com/science/2016/08/world-...</td>\n",
       "      <td>https://arstechnica.com/science/2016/08/world-...</td>\n",
       "      <td>NaN</td>\n",
       "    </tr>\n",
       "  </tbody>\n",
       "</table>\n",
       "<p>105 rows × 18 columns</p>\n",
       "</div>"
      ],
      "text/plain": [
       "       Daily MWh                           name     type location  \\\n",
       "0     1093.481400                   Atikokan-G1  Biomass   Canada   \n",
       "1     1729.075680              MONTES DEL PLATA  Biomass  Uruguay   \n",
       "2     2064.241133                       Aracruz  Biomass   Brazil   \n",
       "3     2214.000000                      Polaniec  Biomass   Poland   \n",
       "4     2773.110600                Toppila 1 ja 2  Biomass  Finland   \n",
       "..            ...                           ...      ...      ...   \n",
       "100  11520.000000   Hornsea Wind Farm (current)     Wind       UK   \n",
       "101  24000.000000               Gansu Wind Farm     Wind    China   \n",
       "102  28800.000000              Greater Changhau     Wind   Taiwan   \n",
       "103  46080.000000                   Dogger Bank     Wind       UK   \n",
       "104  57600.000000  Hornsea Wind Farm (eventual)     Wind       UK   \n",
       "\n",
       "                                                  note size (km2)  \\\n",
       "0                                                  NaN        NaN   \n",
       "1                                                  NaN        NaN   \n",
       "2                                                  NaN        NaN   \n",
       "3    powered by agricultural byproducts and wood re...        NaN   \n",
       "4                                                  NaN        NaN   \n",
       "..                                                 ...        ...   \n",
       "100                                           offshore        NaN   \n",
       "101                                            onshore        NaN   \n",
       "102                                           offshore        NaN   \n",
       "103  offshore, finished in 2025, 23041 MWh calc bas...        NaN   \n",
       "104                                           offshore        480   \n",
       "\n",
       "     barrels of oil equivalent  Unnamed: 7      MW  capacity factor  \\\n",
       "0                    94.265638         NaN   215.0         0.211915   \n",
       "1                   149.058248         NaN   180.0         0.400249   \n",
       "2                   177.951822         NaN   210.4         0.408793   \n",
       "3                   190.862069         NaN   205.0         0.450000   \n",
       "4                   239.061259         NaN   195.0         0.592545   \n",
       "..                         ...         ...     ...              ...   \n",
       "100                 993.103448         NaN  1200.0         0.400000   \n",
       "101                2068.965517         NaN     NaN              NaN   \n",
       "102                2482.758621         NaN  2400.0         0.500000   \n",
       "103                3972.413793         NaN  4800.0         0.400000   \n",
       "104                4965.517241         NaN  6000.0         0.400000   \n",
       "\n",
       "     operational hours per day  Unnamed: 11  data year  \\\n",
       "0                         24.0          NaN     2014.0   \n",
       "1                         24.0          NaN     2014.0   \n",
       "2                         24.0          NaN     2014.0   \n",
       "3                         24.0          NaN        NaN   \n",
       "4                         24.0          NaN     2014.0   \n",
       "..                         ...          ...        ...   \n",
       "100                       24.0          NaN        NaN   \n",
       "101                        NaN          NaN        NaN   \n",
       "102                       24.0          NaN        NaN   \n",
       "103                       24.0          NaN        NaN   \n",
       "104                       24.0          NaN        NaN   \n",
       "\n",
       "                                           source name  source date  \\\n",
       "0                             Natural Resources Canada          NaN   \n",
       "1    La Administración Nacional de Usinas y Trasmis...          NaN   \n",
       "2        Agência Nacional de Energia Elétrica (Brazil)          NaN   \n",
       "3    https://en.wikipedia.org/wiki/Po%C5%82aniec_Po...          NaN   \n",
       "4                             Finnish Energy Authority          NaN   \n",
       "..                                                 ...          ...   \n",
       "100                                       Ars Technica          NaN   \n",
       "101                                  Our World in Data          NaN   \n",
       "102  Lu, Xi & B. McElroy, Michael & Nielsen, Chris ...          NaN   \n",
       "103                                           Forewind          NaN   \n",
       "104                                       Ars Technica          NaN   \n",
       "\n",
       "                                          source 1 URL  \\\n",
       "0    http://ftp.maps.canada.ca/pub/nacei_cnaie/ener...   \n",
       "1          https://www.ute.com.uy/SgePublico/mapa.aspx   \n",
       "2    http://www2.aneel.gov.br/aplicacoes/capacidade...   \n",
       "3                                                  NaN   \n",
       "4    http://www.energiavirasto.fi/en/voimalaitosrek...   \n",
       "..                                                 ...   \n",
       "100  https://arstechnica.com/science/2016/08/world-...   \n",
       "101                                                NaN   \n",
       "102  https://www.researchgate.net/figure/Distributi...   \n",
       "103  http://www.forewind.co.uk/uploads/files/Creyke...   \n",
       "104  https://arstechnica.com/science/2016/08/world-...   \n",
       "\n",
       "                                          source 2 URL  \\\n",
       "0                                                  NaN   \n",
       "1                                                  NaN   \n",
       "2                                                  NaN   \n",
       "3                                                  NaN   \n",
       "4                                                  NaN   \n",
       "..                                                 ...   \n",
       "100  https://arstechnica.com/science/2016/08/world-...   \n",
       "101                                                NaN   \n",
       "102  https://www.researchgate.net/figure/Distributi...   \n",
       "103  https://en.wikipedia.org/wiki/Dogger_Bank_Wind...   \n",
       "104  https://arstechnica.com/science/2016/08/world-...   \n",
       "\n",
       "                                           Unnamed: 17  \n",
       "0                                                  NaN  \n",
       "1                                                  NaN  \n",
       "2                                                  NaN  \n",
       "3                                                  NaN  \n",
       "4                                                  NaN  \n",
       "..                                                 ...  \n",
       "100                                                NaN  \n",
       "101                                                NaN  \n",
       "102  https://orsted.com/en/Company-Announcement-Lis...  \n",
       "103                                                NaN  \n",
       "104                                                NaN  \n",
       "\n",
       "[105 rows x 18 columns]"
      ]
     },
     "execution_count": 4,
     "metadata": {},
     "output_type": "execute_result"
    }
   ],
   "source": [
    "mega"
   ]
  },
  {
   "cell_type": "code",
   "execution_count": 4,
   "metadata": {},
   "outputs": [],
   "source": [
    "df= pd.read_excel('dataset/PowerPlantsAllGE100MW_NorthAmerica_201708.xlsx')"
   ]
  },
  {
   "cell_type": "code",
   "execution_count": 5,
   "metadata": {},
   "outputs": [
    {
     "data": {
      "text/html": [
       "<div>\n",
       "<style scoped>\n",
       "    .dataframe tbody tr th:only-of-type {\n",
       "        vertical-align: middle;\n",
       "    }\n",
       "\n",
       "    .dataframe tbody tr th {\n",
       "        vertical-align: top;\n",
       "    }\n",
       "\n",
       "    .dataframe thead th {\n",
       "        text-align: right;\n",
       "    }\n",
       "</style>\n",
       "<table border=\"1\" class=\"dataframe\">\n",
       "  <thead>\n",
       "    <tr style=\"text-align: right;\">\n",
       "      <th></th>\n",
       "      <th>Country</th>\n",
       "      <th>Facility Name</th>\n",
       "      <th>Owner Name (Company)</th>\n",
       "      <th>Operator Name</th>\n",
       "      <th>Latitude</th>\n",
       "      <th>Longitude</th>\n",
       "      <th>City (Site Name)</th>\n",
       "      <th>County</th>\n",
       "      <th>State / Province / Territory</th>\n",
       "      <th>Zip Code / Postal Code</th>\n",
       "      <th>...</th>\n",
       "      <th>Hydroelectric (MW)</th>\n",
       "      <th>Pumped-Storage Hydroelectric (MW)</th>\n",
       "      <th>Nuclear (MW)</th>\n",
       "      <th>Solar (MW)</th>\n",
       "      <th>Wind (MW)</th>\n",
       "      <th>Geothermal (MW)</th>\n",
       "      <th>Biomass (MW)</th>\n",
       "      <th>Tidal (MW)</th>\n",
       "      <th>Source Agency</th>\n",
       "      <th>Reference Period</th>\n",
       "    </tr>\n",
       "  </thead>\n",
       "  <tbody>\n",
       "    <tr>\n",
       "      <th>0</th>\n",
       "      <td>Mexico</td>\n",
       "      <td>Raúl J. Marsal (Comedero)</td>\n",
       "      <td>CFE</td>\n",
       "      <td>CFE</td>\n",
       "      <td>24.570669</td>\n",
       "      <td>-106.808369</td>\n",
       "      <td>Cosalá</td>\n",
       "      <td>NaN</td>\n",
       "      <td>Sinaloa</td>\n",
       "      <td>NaN</td>\n",
       "      <td>...</td>\n",
       "      <td>100.0</td>\n",
       "      <td>0.0</td>\n",
       "      <td>0.0</td>\n",
       "      <td>0.0</td>\n",
       "      <td>0.0</td>\n",
       "      <td>0.0</td>\n",
       "      <td>0.0</td>\n",
       "      <td>0</td>\n",
       "      <td>CFE-CENACE</td>\n",
       "      <td>201708</td>\n",
       "    </tr>\n",
       "    <tr>\n",
       "      <th>1</th>\n",
       "      <td>Mexico</td>\n",
       "      <td>Iberdrola Energía La Laguna</td>\n",
       "      <td>Iberdrola Energía La Laguna, S. A. De C. V.</td>\n",
       "      <td>Iberdrola Energía La Laguna, S. A. De C. V.</td>\n",
       "      <td>25.601015</td>\n",
       "      <td>-103.468589</td>\n",
       "      <td>Gómez Palacio</td>\n",
       "      <td>NaN</td>\n",
       "      <td>Durango</td>\n",
       "      <td>NaN</td>\n",
       "      <td>...</td>\n",
       "      <td>0.0</td>\n",
       "      <td>0.0</td>\n",
       "      <td>0.0</td>\n",
       "      <td>0.0</td>\n",
       "      <td>0.0</td>\n",
       "      <td>0.0</td>\n",
       "      <td>0.0</td>\n",
       "      <td>0</td>\n",
       "      <td>CFE-CENACE</td>\n",
       "      <td>201708</td>\n",
       "    </tr>\n",
       "    <tr>\n",
       "      <th>2</th>\n",
       "      <td>Mexico</td>\n",
       "      <td>Parques Ecológicos De México</td>\n",
       "      <td>Parques Ecológicos De México, S. A. De C. V.</td>\n",
       "      <td>Parques Ecológicos De México, S. A. De C. V.</td>\n",
       "      <td>16.528297</td>\n",
       "      <td>-94.932617</td>\n",
       "      <td>Juchitán</td>\n",
       "      <td>NaN</td>\n",
       "      <td>Oaxaca</td>\n",
       "      <td>NaN</td>\n",
       "      <td>...</td>\n",
       "      <td>0.0</td>\n",
       "      <td>0.0</td>\n",
       "      <td>0.0</td>\n",
       "      <td>0.0</td>\n",
       "      <td>101.9</td>\n",
       "      <td>0.0</td>\n",
       "      <td>0.0</td>\n",
       "      <td>0</td>\n",
       "      <td>CFE-CENACE</td>\n",
       "      <td>201708</td>\n",
       "    </tr>\n",
       "    <tr>\n",
       "      <th>3</th>\n",
       "      <td>Mexico</td>\n",
       "      <td>La Mata</td>\n",
       "      <td>CFE/PIE</td>\n",
       "      <td>CFE</td>\n",
       "      <td>16.538986</td>\n",
       "      <td>-94.999333</td>\n",
       "      <td>Asunción Ixtaltepec</td>\n",
       "      <td>NaN</td>\n",
       "      <td>Oaxaca</td>\n",
       "      <td>NaN</td>\n",
       "      <td>...</td>\n",
       "      <td>0.0</td>\n",
       "      <td>0.0</td>\n",
       "      <td>0.0</td>\n",
       "      <td>0.0</td>\n",
       "      <td>102.0</td>\n",
       "      <td>0.0</td>\n",
       "      <td>0.0</td>\n",
       "      <td>0</td>\n",
       "      <td>CFE-CENACE</td>\n",
       "      <td>201708</td>\n",
       "    </tr>\n",
       "    <tr>\n",
       "      <th>4</th>\n",
       "      <td>Mexico</td>\n",
       "      <td>Oaxaca I</td>\n",
       "      <td>CFE/PIE</td>\n",
       "      <td>CFE</td>\n",
       "      <td>16.564282</td>\n",
       "      <td>-94.721195</td>\n",
       "      <td>Santo Domingo Ingenio</td>\n",
       "      <td>NaN</td>\n",
       "      <td>Oaxaca</td>\n",
       "      <td>NaN</td>\n",
       "      <td>...</td>\n",
       "      <td>0.0</td>\n",
       "      <td>0.0</td>\n",
       "      <td>0.0</td>\n",
       "      <td>0.0</td>\n",
       "      <td>102.0</td>\n",
       "      <td>0.0</td>\n",
       "      <td>0.0</td>\n",
       "      <td>0</td>\n",
       "      <td>CFE-CENACE</td>\n",
       "      <td>201708</td>\n",
       "    </tr>\n",
       "  </tbody>\n",
       "</table>\n",
       "<p>5 rows × 29 columns</p>\n",
       "</div>"
      ],
      "text/plain": [
       "  Country                 Facility Name  \\\n",
       "0  Mexico     Raúl J. Marsal (Comedero)   \n",
       "1  Mexico   Iberdrola Energía La Laguna   \n",
       "2  Mexico  Parques Ecológicos De México   \n",
       "3  Mexico                       La Mata   \n",
       "4  Mexico                      Oaxaca I   \n",
       "\n",
       "                           Owner Name (Company)  \\\n",
       "0                                           CFE   \n",
       "1   Iberdrola Energía La Laguna, S. A. De C. V.   \n",
       "2  Parques Ecológicos De México, S. A. De C. V.   \n",
       "3                                       CFE/PIE   \n",
       "4                                       CFE/PIE   \n",
       "\n",
       "                                  Operator Name   Latitude   Longitude  \\\n",
       "0                                           CFE  24.570669 -106.808369   \n",
       "1   Iberdrola Energía La Laguna, S. A. De C. V.  25.601015 -103.468589   \n",
       "2  Parques Ecológicos De México, S. A. De C. V.  16.528297  -94.932617   \n",
       "3                                           CFE  16.538986  -94.999333   \n",
       "4                                           CFE  16.564282  -94.721195   \n",
       "\n",
       "        City (Site Name) County State / Province / Territory  \\\n",
       "0                 Cosalá    NaN                      Sinaloa   \n",
       "1          Gómez Palacio    NaN                      Durango   \n",
       "2               Juchitán    NaN                       Oaxaca   \n",
       "3    Asunción Ixtaltepec    NaN                       Oaxaca   \n",
       "4  Santo Domingo Ingenio    NaN                       Oaxaca   \n",
       "\n",
       "  Zip Code / Postal Code  ... Hydroelectric (MW)  \\\n",
       "0                    NaN  ...              100.0   \n",
       "1                    NaN  ...                0.0   \n",
       "2                    NaN  ...                0.0   \n",
       "3                    NaN  ...                0.0   \n",
       "4                    NaN  ...                0.0   \n",
       "\n",
       "   Pumped-Storage Hydroelectric (MW)  Nuclear (MW) Solar (MW) Wind (MW)  \\\n",
       "0                                0.0           0.0        0.0       0.0   \n",
       "1                                0.0           0.0        0.0       0.0   \n",
       "2                                0.0           0.0        0.0     101.9   \n",
       "3                                0.0           0.0        0.0     102.0   \n",
       "4                                0.0           0.0        0.0     102.0   \n",
       "\n",
       "   Geothermal (MW)  Biomass (MW)  Tidal (MW)  Source Agency  Reference Period  \n",
       "0              0.0           0.0           0     CFE-CENACE            201708  \n",
       "1              0.0           0.0           0     CFE-CENACE            201708  \n",
       "2              0.0           0.0           0     CFE-CENACE            201708  \n",
       "3              0.0           0.0           0     CFE-CENACE            201708  \n",
       "4              0.0           0.0           0     CFE-CENACE            201708  \n",
       "\n",
       "[5 rows x 29 columns]"
      ]
     },
     "execution_count": 5,
     "metadata": {},
     "output_type": "execute_result"
    }
   ],
   "source": [
    "df.head()"
   ]
  },
  {
   "cell_type": "code",
   "execution_count": 6,
   "metadata": {},
   "outputs": [
    {
     "data": {
      "text/plain": [
       "(2266, 29)"
      ]
     },
     "execution_count": 6,
     "metadata": {},
     "output_type": "execute_result"
    }
   ],
   "source": [
    "df.shape"
   ]
  },
  {
   "cell_type": "code",
   "execution_count": 11,
   "metadata": {},
   "outputs": [],
   "source": [
    "import pandas as pd\n",
    "import plotly.express as px"
   ]
  },
  {
   "cell_type": "code",
   "execution_count": 7,
   "metadata": {},
   "outputs": [],
   "source": [
    "years = list(range(1970, 2021))"
   ]
  },
  {
   "cell_type": "code",
   "execution_count": 9,
   "metadata": {},
   "outputs": [
    {
     "data": {
      "text/html": [
       "<div>\n",
       "<style scoped>\n",
       "    .dataframe tbody tr th:only-of-type {\n",
       "        vertical-align: middle;\n",
       "    }\n",
       "\n",
       "    .dataframe tbody tr th {\n",
       "        vertical-align: top;\n",
       "    }\n",
       "\n",
       "    .dataframe thead th {\n",
       "        text-align: right;\n",
       "    }\n",
       "</style>\n",
       "<table border=\"1\" class=\"dataframe\">\n",
       "  <thead>\n",
       "    <tr style=\"text-align: right;\">\n",
       "      <th></th>\n",
       "      <th>Country</th>\n",
       "      <th>1970</th>\n",
       "      <th>1971</th>\n",
       "      <th>1972</th>\n",
       "      <th>1973</th>\n",
       "      <th>1974</th>\n",
       "      <th>1975</th>\n",
       "      <th>1976</th>\n",
       "      <th>1977</th>\n",
       "      <th>1978</th>\n",
       "      <th>...</th>\n",
       "      <th>2012</th>\n",
       "      <th>2013</th>\n",
       "      <th>2014</th>\n",
       "      <th>2015</th>\n",
       "      <th>2016</th>\n",
       "      <th>2017</th>\n",
       "      <th>2018</th>\n",
       "      <th>2019</th>\n",
       "      <th>2020</th>\n",
       "      <th>total</th>\n",
       "    </tr>\n",
       "  </thead>\n",
       "  <tbody>\n",
       "    <tr>\n",
       "      <th>0</th>\n",
       "      <td>Afghanistan</td>\n",
       "      <td>1.72</td>\n",
       "      <td>1.72</td>\n",
       "      <td>1.71</td>\n",
       "      <td>1.71</td>\n",
       "      <td>2.17</td>\n",
       "      <td>2.02</td>\n",
       "      <td>1.85</td>\n",
       "      <td>2.25</td>\n",
       "      <td>1.89</td>\n",
       "      <td>...</td>\n",
       "      <td>9.88</td>\n",
       "      <td>8.17</td>\n",
       "      <td>7.37</td>\n",
       "      <td>7.71</td>\n",
       "      <td>6.340675</td>\n",
       "      <td>8.608757</td>\n",
       "      <td>8.711733</td>\n",
       "      <td>12.047469</td>\n",
       "      <td>11.947864</td>\n",
       "      <td>183.316497</td>\n",
       "    </tr>\n",
       "    <tr>\n",
       "      <th>1</th>\n",
       "      <td>Albania</td>\n",
       "      <td>4.81</td>\n",
       "      <td>4.81</td>\n",
       "      <td>5.50</td>\n",
       "      <td>4.94</td>\n",
       "      <td>5.32</td>\n",
       "      <td>5.41</td>\n",
       "      <td>5.78</td>\n",
       "      <td>6.20</td>\n",
       "      <td>6.82</td>\n",
       "      <td>...</td>\n",
       "      <td>4.56</td>\n",
       "      <td>4.79</td>\n",
       "      <td>5.11</td>\n",
       "      <td>4.89</td>\n",
       "      <td>4.724663</td>\n",
       "      <td>5.346659</td>\n",
       "      <td>5.372932</td>\n",
       "      <td>5.576278</td>\n",
       "      <td>5.103103</td>\n",
       "      <td>261.433635</td>\n",
       "    </tr>\n",
       "    <tr>\n",
       "      <th>2</th>\n",
       "      <td>Algeria</td>\n",
       "      <td>18.93</td>\n",
       "      <td>22.32</td>\n",
       "      <td>34.38</td>\n",
       "      <td>46.48</td>\n",
       "      <td>39.30</td>\n",
       "      <td>35.72</td>\n",
       "      <td>46.33</td>\n",
       "      <td>51.29</td>\n",
       "      <td>56.57</td>\n",
       "      <td>...</td>\n",
       "      <td>137.22</td>\n",
       "      <td>141.53</td>\n",
       "      <td>152.19</td>\n",
       "      <td>161.48</td>\n",
       "      <td>159.230628</td>\n",
       "      <td>162.096889</td>\n",
       "      <td>170.925174</td>\n",
       "      <td>176.625391</td>\n",
       "      <td>163.473371</td>\n",
       "      <td>4454.501453</td>\n",
       "    </tr>\n",
       "    <tr>\n",
       "      <th>3</th>\n",
       "      <td>Angola</td>\n",
       "      <td>8.95</td>\n",
       "      <td>8.54</td>\n",
       "      <td>10.39</td>\n",
       "      <td>11.37</td>\n",
       "      <td>11.83</td>\n",
       "      <td>10.93</td>\n",
       "      <td>7.32</td>\n",
       "      <td>12.06</td>\n",
       "      <td>14.24</td>\n",
       "      <td>...</td>\n",
       "      <td>24.20</td>\n",
       "      <td>27.83</td>\n",
       "      <td>30.42</td>\n",
       "      <td>32.61</td>\n",
       "      <td>33.071920</td>\n",
       "      <td>28.248618</td>\n",
       "      <td>26.454254</td>\n",
       "      <td>24.458093</td>\n",
       "      <td>22.513601</td>\n",
       "      <td>863.216485</td>\n",
       "    </tr>\n",
       "    <tr>\n",
       "      <th>4</th>\n",
       "      <td>Anguilla</td>\n",
       "      <td>0.00</td>\n",
       "      <td>0.00</td>\n",
       "      <td>0.00</td>\n",
       "      <td>0.00</td>\n",
       "      <td>0.00</td>\n",
       "      <td>0.00</td>\n",
       "      <td>0.00</td>\n",
       "      <td>0.00</td>\n",
       "      <td>0.00</td>\n",
       "      <td>...</td>\n",
       "      <td>0.03</td>\n",
       "      <td>0.03</td>\n",
       "      <td>0.03</td>\n",
       "      <td>0.03</td>\n",
       "      <td>0.028340</td>\n",
       "      <td>0.029062</td>\n",
       "      <td>0.028223</td>\n",
       "      <td>0.027580</td>\n",
       "      <td>0.023859</td>\n",
       "      <td>0.637064</td>\n",
       "    </tr>\n",
       "  </tbody>\n",
       "</table>\n",
       "<p>5 rows × 53 columns</p>\n",
       "</div>"
      ],
      "text/plain": [
       "       Country   1970   1971   1972   1973   1974   1975   1976   1977   1978  \\\n",
       "0  Afghanistan   1.72   1.72   1.71   1.71   2.17   2.02   1.85   2.25   1.89   \n",
       "1      Albania   4.81   4.81   5.50   4.94   5.32   5.41   5.78   6.20   6.82   \n",
       "2      Algeria  18.93  22.32  34.38  46.48  39.30  35.72  46.33  51.29  56.57   \n",
       "3       Angola   8.95   8.54  10.39  11.37  11.83  10.93   7.32  12.06  14.24   \n",
       "4     Anguilla   0.00   0.00   0.00   0.00   0.00   0.00   0.00   0.00   0.00   \n",
       "\n",
       "   ...    2012    2013    2014    2015        2016        2017        2018  \\\n",
       "0  ...    9.88    8.17    7.37    7.71    6.340675    8.608757    8.711733   \n",
       "1  ...    4.56    4.79    5.11    4.89    4.724663    5.346659    5.372932   \n",
       "2  ...  137.22  141.53  152.19  161.48  159.230628  162.096889  170.925174   \n",
       "3  ...   24.20   27.83   30.42   32.61   33.071920   28.248618   26.454254   \n",
       "4  ...    0.03    0.03    0.03    0.03    0.028340    0.029062    0.028223   \n",
       "\n",
       "         2019        2020        total  \n",
       "0   12.047469   11.947864   183.316497  \n",
       "1    5.576278    5.103103   261.433635  \n",
       "2  176.625391  163.473371  4454.501453  \n",
       "3   24.458093   22.513601   863.216485  \n",
       "4    0.027580    0.023859     0.637064  \n",
       "\n",
       "[5 rows x 53 columns]"
      ]
     },
     "execution_count": 9,
     "metadata": {},
     "output_type": "execute_result"
    }
   ],
   "source": [
    "mega = pd.read_csv('datasets/co2emission.csv')\n",
    "\n",
    "# mega.drop()"
   ]
  },
  {
   "cell_type": "code",
   "execution_count": 12,
   "metadata": {},
   "outputs": [
    {
     "data": {
      "text/html": [
       "<div>\n",
       "<style scoped>\n",
       "    .dataframe tbody tr th:only-of-type {\n",
       "        vertical-align: middle;\n",
       "    }\n",
       "\n",
       "    .dataframe tbody tr th {\n",
       "        vertical-align: top;\n",
       "    }\n",
       "\n",
       "    .dataframe thead th {\n",
       "        text-align: right;\n",
       "    }\n",
       "</style>\n",
       "<table border=\"1\" class=\"dataframe\">\n",
       "  <thead>\n",
       "    <tr style=\"text-align: right;\">\n",
       "      <th></th>\n",
       "      <th>Country</th>\n",
       "      <th>1970</th>\n",
       "      <th>1971</th>\n",
       "      <th>1972</th>\n",
       "      <th>1973</th>\n",
       "      <th>1974</th>\n",
       "      <th>1975</th>\n",
       "      <th>1976</th>\n",
       "      <th>1977</th>\n",
       "      <th>1978</th>\n",
       "      <th>...</th>\n",
       "      <th>2012</th>\n",
       "      <th>2013</th>\n",
       "      <th>2014</th>\n",
       "      <th>2015</th>\n",
       "      <th>2016</th>\n",
       "      <th>2017</th>\n",
       "      <th>2018</th>\n",
       "      <th>2019</th>\n",
       "      <th>2020</th>\n",
       "      <th>total</th>\n",
       "    </tr>\n",
       "  </thead>\n",
       "  <tbody>\n",
       "    <tr>\n",
       "      <th>0</th>\n",
       "      <td>Afghanistan</td>\n",
       "      <td>1.72</td>\n",
       "      <td>1.72</td>\n",
       "      <td>1.71</td>\n",
       "      <td>1.71</td>\n",
       "      <td>2.17</td>\n",
       "      <td>2.02</td>\n",
       "      <td>1.85</td>\n",
       "      <td>2.25</td>\n",
       "      <td>1.89</td>\n",
       "      <td>...</td>\n",
       "      <td>9.88</td>\n",
       "      <td>8.17</td>\n",
       "      <td>7.37</td>\n",
       "      <td>7.71</td>\n",
       "      <td>6.340675</td>\n",
       "      <td>8.608757</td>\n",
       "      <td>8.711733</td>\n",
       "      <td>12.047469</td>\n",
       "      <td>11.947864</td>\n",
       "      <td>549.949491</td>\n",
       "    </tr>\n",
       "    <tr>\n",
       "      <th>1</th>\n",
       "      <td>Albania</td>\n",
       "      <td>4.81</td>\n",
       "      <td>4.81</td>\n",
       "      <td>5.50</td>\n",
       "      <td>4.94</td>\n",
       "      <td>5.32</td>\n",
       "      <td>5.41</td>\n",
       "      <td>5.78</td>\n",
       "      <td>6.20</td>\n",
       "      <td>6.82</td>\n",
       "      <td>...</td>\n",
       "      <td>4.56</td>\n",
       "      <td>4.79</td>\n",
       "      <td>5.11</td>\n",
       "      <td>4.89</td>\n",
       "      <td>4.724663</td>\n",
       "      <td>5.346659</td>\n",
       "      <td>5.372932</td>\n",
       "      <td>5.576278</td>\n",
       "      <td>5.103103</td>\n",
       "      <td>784.300905</td>\n",
       "    </tr>\n",
       "    <tr>\n",
       "      <th>2</th>\n",
       "      <td>Algeria</td>\n",
       "      <td>18.93</td>\n",
       "      <td>22.32</td>\n",
       "      <td>34.38</td>\n",
       "      <td>46.48</td>\n",
       "      <td>39.30</td>\n",
       "      <td>35.72</td>\n",
       "      <td>46.33</td>\n",
       "      <td>51.29</td>\n",
       "      <td>56.57</td>\n",
       "      <td>...</td>\n",
       "      <td>137.22</td>\n",
       "      <td>141.53</td>\n",
       "      <td>152.19</td>\n",
       "      <td>161.48</td>\n",
       "      <td>159.230628</td>\n",
       "      <td>162.096889</td>\n",
       "      <td>170.925174</td>\n",
       "      <td>176.625391</td>\n",
       "      <td>163.473371</td>\n",
       "      <td>13363.504359</td>\n",
       "    </tr>\n",
       "    <tr>\n",
       "      <th>3</th>\n",
       "      <td>Angola</td>\n",
       "      <td>8.95</td>\n",
       "      <td>8.54</td>\n",
       "      <td>10.39</td>\n",
       "      <td>11.37</td>\n",
       "      <td>11.83</td>\n",
       "      <td>10.93</td>\n",
       "      <td>7.32</td>\n",
       "      <td>12.06</td>\n",
       "      <td>14.24</td>\n",
       "      <td>...</td>\n",
       "      <td>24.20</td>\n",
       "      <td>27.83</td>\n",
       "      <td>30.42</td>\n",
       "      <td>32.61</td>\n",
       "      <td>33.071920</td>\n",
       "      <td>28.248618</td>\n",
       "      <td>26.454254</td>\n",
       "      <td>24.458093</td>\n",
       "      <td>22.513601</td>\n",
       "      <td>2589.649455</td>\n",
       "    </tr>\n",
       "    <tr>\n",
       "      <th>4</th>\n",
       "      <td>Anguilla</td>\n",
       "      <td>0.00</td>\n",
       "      <td>0.00</td>\n",
       "      <td>0.00</td>\n",
       "      <td>0.00</td>\n",
       "      <td>0.00</td>\n",
       "      <td>0.00</td>\n",
       "      <td>0.00</td>\n",
       "      <td>0.00</td>\n",
       "      <td>0.00</td>\n",
       "      <td>...</td>\n",
       "      <td>0.03</td>\n",
       "      <td>0.03</td>\n",
       "      <td>0.03</td>\n",
       "      <td>0.03</td>\n",
       "      <td>0.028340</td>\n",
       "      <td>0.029062</td>\n",
       "      <td>0.028223</td>\n",
       "      <td>0.027580</td>\n",
       "      <td>0.023859</td>\n",
       "      <td>1.911193</td>\n",
       "    </tr>\n",
       "  </tbody>\n",
       "</table>\n",
       "<p>5 rows × 53 columns</p>\n",
       "</div>"
      ],
      "text/plain": [
       "       Country   1970   1971   1972   1973   1974   1975   1976   1977   1978  \\\n",
       "0  Afghanistan   1.72   1.72   1.71   1.71   2.17   2.02   1.85   2.25   1.89   \n",
       "1      Albania   4.81   4.81   5.50   4.94   5.32   5.41   5.78   6.20   6.82   \n",
       "2      Algeria  18.93  22.32  34.38  46.48  39.30  35.72  46.33  51.29  56.57   \n",
       "3       Angola   8.95   8.54  10.39  11.37  11.83  10.93   7.32  12.06  14.24   \n",
       "4     Anguilla   0.00   0.00   0.00   0.00   0.00   0.00   0.00   0.00   0.00   \n",
       "\n",
       "   ...    2012    2013    2014    2015        2016        2017        2018  \\\n",
       "0  ...    9.88    8.17    7.37    7.71    6.340675    8.608757    8.711733   \n",
       "1  ...    4.56    4.79    5.11    4.89    4.724663    5.346659    5.372932   \n",
       "2  ...  137.22  141.53  152.19  161.48  159.230628  162.096889  170.925174   \n",
       "3  ...   24.20   27.83   30.42   32.61   33.071920   28.248618   26.454254   \n",
       "4  ...    0.03    0.03    0.03    0.03    0.028340    0.029062    0.028223   \n",
       "\n",
       "         2019        2020         total  \n",
       "0   12.047469   11.947864    549.949491  \n",
       "1    5.576278    5.103103    784.300905  \n",
       "2  176.625391  163.473371  13363.504359  \n",
       "3   24.458093   22.513601   2589.649455  \n",
       "4    0.027580    0.023859      1.911193  \n",
       "\n",
       "[5 rows x 53 columns]"
      ]
     },
     "execution_count": 12,
     "metadata": {},
     "output_type": "execute_result"
    }
   ],
   "source": [
    "mega['total'] = mega.sum(axis=1)\n",
    "mega.head()"
   ]
  },
  {
   "cell_type": "code",
   "execution_count": 13,
   "metadata": {},
   "outputs": [
    {
     "data": {
      "application/vnd.plotly.v1+json": {
       "config": {
        "plotlyServerURL": "https://plot.ly"
       },
       "data": [
        {
         "hovertemplate": "Country=%{x}<br>total=%{y}<extra></extra>",
         "legendgroup": "",
         "line": {
          "color": "#636efa",
          "dash": "solid"
         },
         "marker": {
          "symbol": "circle"
         },
         "mode": "lines",
         "name": "",
         "orientation": "v",
         "showlegend": false,
         "type": "scatter",
         "x": [
          "Afghanistan",
          "Albania",
          "Algeria",
          "Angola",
          "Anguilla",
          "Antigua and Barbuda",
          "Argentina",
          "Armenia",
          "Aruba",
          "Australia",
          "Austria",
          "Azerbaijan",
          "Bahamas",
          "Bahrain",
          "Bangladesh",
          "Barbados",
          "Belarus",
          "Belgium",
          "Belize",
          "Benin",
          "Bermuda",
          "Bhutan",
          "Bolivia",
          "Bosnia and Herzegovina",
          "Botswana",
          "Brazil",
          "British Virgin Islands",
          "Brunei",
          "Bulgaria",
          "Burkina Faso",
          "Burundi",
          "Cabo Verde",
          "Cambodia",
          "Cameroon",
          "Canada",
          "Cayman Islands",
          "Central African Republic",
          "Chad",
          "Chile",
          "China",
          "Colombia",
          "Comoros",
          "Congo",
          "Cook Islands",
          "Costa Rica",
          "Côte d’Ivoire",
          "Croatia",
          "Cuba",
          "Curaçao",
          "Cyprus",
          "Czechia",
          "Democratic Republic of the Congo",
          "Denmark",
          "Djibouti",
          "Dominica",
          "Dominican Republic",
          "Ecuador",
          "Egypt",
          "El Salvador",
          "Equatorial Guinea",
          "Eritrea",
          "Estonia",
          "Eswatini",
          "Ethiopia",
          "Falkland Islands",
          "Faroes",
          "Fiji",
          "Finland",
          "France and Monaco",
          "French Guiana",
          "French Polynesia",
          "Gabon",
          "Georgia",
          "Germany",
          "Ghana",
          "Gibraltar",
          "Greece",
          "Greenland",
          "Grenada",
          "Guadeloupe",
          "Guatemala",
          "Guinea",
          "Guinea-Bissau",
          "Guyana",
          "Haiti",
          "Honduras",
          "Hong Kong",
          "Hungary",
          "Iceland",
          "India",
          "Indonesia",
          "Iran",
          "Iraq",
          "Ireland",
          "Israel and Palestine, State of",
          "Italy, San Marino and the Holy See",
          "Jamaica",
          "Japan",
          "Jordan",
          "Kazakhstan",
          "Kenya",
          "Kiribati",
          "Kuwait",
          "Kyrgyzstan",
          "Laos",
          "Latvia",
          "Lebanon",
          "Lesotho",
          "Liberia",
          "Libya",
          "Lithuania",
          "Luxembourg",
          "Macao",
          "Madagascar",
          "Malawi",
          "Malaysia",
          "Maldives",
          "Mali",
          "Malta",
          "Martinique",
          "Mauritania",
          "Mauritius",
          "Mexico",
          "Moldova",
          "Mongolia",
          "Morocco",
          "Mozambique",
          "Myanmar/Burma",
          "Namibia",
          "Nepal",
          "Netherlands",
          "New Caledonia",
          "New Zealand",
          "Nicaragua",
          "Niger",
          "Nigeria",
          "North Korea",
          "North Macedonia",
          "Norway",
          "Oman",
          "Pakistan",
          "Palau",
          "Panama",
          "Papua New Guinea",
          "Paraguay",
          "Peru",
          "Philippines",
          "Poland",
          "Portugal",
          "Puerto Rico",
          "Qatar",
          "Réunion",
          "Romania",
          "Russia",
          "Rwanda",
          "Saint Helena, Ascension and Tristan da Cunha",
          "Saint Kitts and Nevis",
          "Saint Lucia",
          "Saint Pierre and Miquelon",
          "Saint Vincent and the Grenadines",
          "Samoa",
          "São Tomé and Príncipe",
          "Saudi Arabia",
          "Senegal",
          "Serbia and Montenegro",
          "Seychelles",
          "Sierra Leone",
          "Singapore",
          "Slovakia",
          "Slovenia",
          "Solomon Islands",
          "Somalia",
          "South Africa",
          "South Korea",
          "Spain and Andorra",
          "Sri Lanka",
          "Sudan and South Sudan",
          "Suriname",
          "Sweden",
          "Switzerland and Liechtenstein",
          "Syria",
          "Taiwan",
          "Tajikistan",
          "Tanzania",
          "Thailand",
          "The Gambia",
          "Timor-Leste",
          "Togo",
          "Tonga",
          "Trinidad and Tobago",
          "Tunisia",
          "Turkey",
          "Turkmenistan",
          "Turks and Caicos Islands",
          "Uganda",
          "Ukraine",
          "United Arab Emirates",
          "United Kingdom",
          "United States",
          "Uruguay",
          "Uzbekistan",
          "Vanuatu",
          "Venezuela",
          "Vietnam",
          "Western Sahara",
          "Yemen",
          "Zambia",
          "Zimbabwe",
          "International Aviation",
          "International Shipping"
         ],
         "xaxis": "x",
         "y": [
          549.949491243,
          784.3009045079998,
          13363.5043593,
          2589.649454760001,
          1.9111934130000008,
          67.392162474,
          21426.93936450001,
          1555.5753116760006,
          90.824537379,
          46752.7664457,
          10097.10587244,
          6220.769523479999,
          445.20402787800015,
          2647.2448553100003,
          4967.710991370001,
          189.878620791,
          11816.632060080003,
          18260.920655819995,
          48.44771904300001,
          352.39590314399993,
          80.85607310400002,
          64.902792066,
          1494.93979524,
          2792.34234483,
          505.6154336850001,
          46898.1873075,
          11.881052280000006,
          731.016064038,
          9948.800833830004,
          179.73869597699996,
          33.99515080199999,
          54.754056816,
          452.08424708999996,
          787.2445545989999,
          76118.1453483,
          46.057941002999996,
          38.66268648,
          56.404543272,
          7420.5249095399995,
          719297.15025,
          8743.342630829999,
          14.119454292000004,
          615.616150725,
          7.091663100000003,
          722.5997817420002,
          896.2214761200001,
          3496.7492002500003,
          4413.717106800002,
          958.116751992,
          810.372601569,
          22870.977672209992,
          471.32266581300007,
          8304.685865100002,
          141.89507153099999,
          13.889409207000003,
          2130.8299511699997,
          3421.48486233,
          19386.686202899997,
          704.5514050289999,
          383.3781313379999,
          83.724816876,
          3839.25521166,
          202.164491175,
          786.6262184100001,
          3.3793963200000015,
          0.028977096,
          189.11311459499998,
          8406.467505690001,
          62329.13360399997,
          77.00909618099998,
          100.488255558,
          869.5392047550002,
          2870.7577975199993,
          145195.57515059994,
          1032.4552501500002,
          44.859288876000015,
          11173.694104980003,
          29.099463465000007,
          21.454466658,
          209.1038727810001,
          1272.6127943700003,
          224.84877171299996,
          32.245684694999994,
          195.5964211380001,
          248.34894411300002,
          759.692769417,
          4982.04716598,
          10266.96247482,
          431.71782093000013,
          153518.14999200002,
          39697.81988339999,
          50748.7628079,
          13837.736191500004,
          5317.07692155,
          7003.732867500001,
          61843.69421790001,
          1218.6217229879999,
          173022.30606,
          2159.63291889,
          32679.85041180001,
          1310.5459735799996,
          5.168155536000003,
          8651.754644669998,
          1997.5836354209996,
          629.9030702099999,
          1982.9277826770006,
          2110.27191279,
          43.813535058,
          135.859150665,
          6307.451870939998,
          3230.8001448000005,
          1760.9073171539999,
          177.51466340100004,
          281.92515937199994,
          158.713692483,
          17651.4416196,
          77.39074987799998,
          171.005141979,
          288.81856245000006,
          219.52882140599996,
          238.555305375,
          301.55729959499996,
          52328.0934513,
          2501.201066034001,
          1915.8954121500005,
          4999.435255440001,
          501.3110757569999,
          1536.06969063,
          347.667701598,
          525.48217353,
          25172.9066943,
          378.82494114900004,
          4213.76470236,
          505.1564718689999,
          160.81872362100003,
          13368.200971500002,
          12792.728807730004,
          1452.549441414,
          6294.961781640002,
          4989.48952377,
          14555.390514899998,
          298.589271747,
          849.5928986759998,
          499.62981087899993,
          540.719278515,
          4648.074326370001,
          10100.277076500002,
          55484.7324369,
          6715.22403624,
          288.77529818700003,
          6097.145976599999,
          244.292943342,
          20649.487439460005,
          273804.922908,
          83.42643611699998,
          0.9652435440000003,
          17.279339325000002,
          33.770732774999985,
          16.225210436999994,
          16.881920217000005,
          23.080075488,
          10.347841410000001,
          43295.4801552,
          672.0911489999999,
          9251.369870640001,
          87.17147086499999,
          108.603736851,
          5094.920746739999,
          7126.075275480001,
          2219.4977441100004,
          24.500350559999998,
          115.990903059,
          52187.43979740001,
          56101.35100499999,
          38406.79906619998,
          1507.6919357099996,
          1362.62704545,
          241.98427117199998,
          9658.74934584,
          6683.174085090002,
          4966.717662960001,
          26351.648669399998,
          1080.1257777089995,
          692.0281477500001,
          21822.7130472,
          40.01121705600001,
          81.825239058,
          184.389721551,
          12.218275647000002,
          3059.47153662,
          2699.1463023899996,
          30476.137793700003,
          6711.9575472000015,
          9.486107163,
          301.2530822519999,
          77118.32679480001,
          15018.661925700002,
          84578.1940473,
          797747.8815210003,
          859.9537505369998,
          15265.859252519997,
          16.009514669999994,
          17891.452497149996,
          12030.1676505,
          27.495731007000003,
          1779.12088842,
          541.1784414329998,
          1859.8253461799998,
          50076.671309100006,
          72334.0838982
         ],
         "yaxis": "y"
        }
       ],
       "layout": {
        "legend": {
         "tracegroupgap": 0
        },
        "margin": {
         "t": 60
        },
        "template": {
         "data": {
          "bar": [
           {
            "error_x": {
             "color": "#2a3f5f"
            },
            "error_y": {
             "color": "#2a3f5f"
            },
            "marker": {
             "line": {
              "color": "#E5ECF6",
              "width": 0.5
             },
             "pattern": {
              "fillmode": "overlay",
              "size": 10,
              "solidity": 0.2
             }
            },
            "type": "bar"
           }
          ],
          "barpolar": [
           {
            "marker": {
             "line": {
              "color": "#E5ECF6",
              "width": 0.5
             },
             "pattern": {
              "fillmode": "overlay",
              "size": 10,
              "solidity": 0.2
             }
            },
            "type": "barpolar"
           }
          ],
          "carpet": [
           {
            "aaxis": {
             "endlinecolor": "#2a3f5f",
             "gridcolor": "white",
             "linecolor": "white",
             "minorgridcolor": "white",
             "startlinecolor": "#2a3f5f"
            },
            "baxis": {
             "endlinecolor": "#2a3f5f",
             "gridcolor": "white",
             "linecolor": "white",
             "minorgridcolor": "white",
             "startlinecolor": "#2a3f5f"
            },
            "type": "carpet"
           }
          ],
          "choropleth": [
           {
            "colorbar": {
             "outlinewidth": 0,
             "ticks": ""
            },
            "type": "choropleth"
           }
          ],
          "contour": [
           {
            "colorbar": {
             "outlinewidth": 0,
             "ticks": ""
            },
            "colorscale": [
             [
              0,
              "#0d0887"
             ],
             [
              0.1111111111111111,
              "#46039f"
             ],
             [
              0.2222222222222222,
              "#7201a8"
             ],
             [
              0.3333333333333333,
              "#9c179e"
             ],
             [
              0.4444444444444444,
              "#bd3786"
             ],
             [
              0.5555555555555556,
              "#d8576b"
             ],
             [
              0.6666666666666666,
              "#ed7953"
             ],
             [
              0.7777777777777778,
              "#fb9f3a"
             ],
             [
              0.8888888888888888,
              "#fdca26"
             ],
             [
              1,
              "#f0f921"
             ]
            ],
            "type": "contour"
           }
          ],
          "contourcarpet": [
           {
            "colorbar": {
             "outlinewidth": 0,
             "ticks": ""
            },
            "type": "contourcarpet"
           }
          ],
          "heatmap": [
           {
            "colorbar": {
             "outlinewidth": 0,
             "ticks": ""
            },
            "colorscale": [
             [
              0,
              "#0d0887"
             ],
             [
              0.1111111111111111,
              "#46039f"
             ],
             [
              0.2222222222222222,
              "#7201a8"
             ],
             [
              0.3333333333333333,
              "#9c179e"
             ],
             [
              0.4444444444444444,
              "#bd3786"
             ],
             [
              0.5555555555555556,
              "#d8576b"
             ],
             [
              0.6666666666666666,
              "#ed7953"
             ],
             [
              0.7777777777777778,
              "#fb9f3a"
             ],
             [
              0.8888888888888888,
              "#fdca26"
             ],
             [
              1,
              "#f0f921"
             ]
            ],
            "type": "heatmap"
           }
          ],
          "heatmapgl": [
           {
            "colorbar": {
             "outlinewidth": 0,
             "ticks": ""
            },
            "colorscale": [
             [
              0,
              "#0d0887"
             ],
             [
              0.1111111111111111,
              "#46039f"
             ],
             [
              0.2222222222222222,
              "#7201a8"
             ],
             [
              0.3333333333333333,
              "#9c179e"
             ],
             [
              0.4444444444444444,
              "#bd3786"
             ],
             [
              0.5555555555555556,
              "#d8576b"
             ],
             [
              0.6666666666666666,
              "#ed7953"
             ],
             [
              0.7777777777777778,
              "#fb9f3a"
             ],
             [
              0.8888888888888888,
              "#fdca26"
             ],
             [
              1,
              "#f0f921"
             ]
            ],
            "type": "heatmapgl"
           }
          ],
          "histogram": [
           {
            "marker": {
             "pattern": {
              "fillmode": "overlay",
              "size": 10,
              "solidity": 0.2
             }
            },
            "type": "histogram"
           }
          ],
          "histogram2d": [
           {
            "colorbar": {
             "outlinewidth": 0,
             "ticks": ""
            },
            "colorscale": [
             [
              0,
              "#0d0887"
             ],
             [
              0.1111111111111111,
              "#46039f"
             ],
             [
              0.2222222222222222,
              "#7201a8"
             ],
             [
              0.3333333333333333,
              "#9c179e"
             ],
             [
              0.4444444444444444,
              "#bd3786"
             ],
             [
              0.5555555555555556,
              "#d8576b"
             ],
             [
              0.6666666666666666,
              "#ed7953"
             ],
             [
              0.7777777777777778,
              "#fb9f3a"
             ],
             [
              0.8888888888888888,
              "#fdca26"
             ],
             [
              1,
              "#f0f921"
             ]
            ],
            "type": "histogram2d"
           }
          ],
          "histogram2dcontour": [
           {
            "colorbar": {
             "outlinewidth": 0,
             "ticks": ""
            },
            "colorscale": [
             [
              0,
              "#0d0887"
             ],
             [
              0.1111111111111111,
              "#46039f"
             ],
             [
              0.2222222222222222,
              "#7201a8"
             ],
             [
              0.3333333333333333,
              "#9c179e"
             ],
             [
              0.4444444444444444,
              "#bd3786"
             ],
             [
              0.5555555555555556,
              "#d8576b"
             ],
             [
              0.6666666666666666,
              "#ed7953"
             ],
             [
              0.7777777777777778,
              "#fb9f3a"
             ],
             [
              0.8888888888888888,
              "#fdca26"
             ],
             [
              1,
              "#f0f921"
             ]
            ],
            "type": "histogram2dcontour"
           }
          ],
          "mesh3d": [
           {
            "colorbar": {
             "outlinewidth": 0,
             "ticks": ""
            },
            "type": "mesh3d"
           }
          ],
          "parcoords": [
           {
            "line": {
             "colorbar": {
              "outlinewidth": 0,
              "ticks": ""
             }
            },
            "type": "parcoords"
           }
          ],
          "pie": [
           {
            "automargin": true,
            "type": "pie"
           }
          ],
          "scatter": [
           {
            "marker": {
             "colorbar": {
              "outlinewidth": 0,
              "ticks": ""
             }
            },
            "type": "scatter"
           }
          ],
          "scatter3d": [
           {
            "line": {
             "colorbar": {
              "outlinewidth": 0,
              "ticks": ""
             }
            },
            "marker": {
             "colorbar": {
              "outlinewidth": 0,
              "ticks": ""
             }
            },
            "type": "scatter3d"
           }
          ],
          "scattercarpet": [
           {
            "marker": {
             "colorbar": {
              "outlinewidth": 0,
              "ticks": ""
             }
            },
            "type": "scattercarpet"
           }
          ],
          "scattergeo": [
           {
            "marker": {
             "colorbar": {
              "outlinewidth": 0,
              "ticks": ""
             }
            },
            "type": "scattergeo"
           }
          ],
          "scattergl": [
           {
            "marker": {
             "colorbar": {
              "outlinewidth": 0,
              "ticks": ""
             }
            },
            "type": "scattergl"
           }
          ],
          "scattermapbox": [
           {
            "marker": {
             "colorbar": {
              "outlinewidth": 0,
              "ticks": ""
             }
            },
            "type": "scattermapbox"
           }
          ],
          "scatterpolar": [
           {
            "marker": {
             "colorbar": {
              "outlinewidth": 0,
              "ticks": ""
             }
            },
            "type": "scatterpolar"
           }
          ],
          "scatterpolargl": [
           {
            "marker": {
             "colorbar": {
              "outlinewidth": 0,
              "ticks": ""
             }
            },
            "type": "scatterpolargl"
           }
          ],
          "scatterternary": [
           {
            "marker": {
             "colorbar": {
              "outlinewidth": 0,
              "ticks": ""
             }
            },
            "type": "scatterternary"
           }
          ],
          "surface": [
           {
            "colorbar": {
             "outlinewidth": 0,
             "ticks": ""
            },
            "colorscale": [
             [
              0,
              "#0d0887"
             ],
             [
              0.1111111111111111,
              "#46039f"
             ],
             [
              0.2222222222222222,
              "#7201a8"
             ],
             [
              0.3333333333333333,
              "#9c179e"
             ],
             [
              0.4444444444444444,
              "#bd3786"
             ],
             [
              0.5555555555555556,
              "#d8576b"
             ],
             [
              0.6666666666666666,
              "#ed7953"
             ],
             [
              0.7777777777777778,
              "#fb9f3a"
             ],
             [
              0.8888888888888888,
              "#fdca26"
             ],
             [
              1,
              "#f0f921"
             ]
            ],
            "type": "surface"
           }
          ],
          "table": [
           {
            "cells": {
             "fill": {
              "color": "#EBF0F8"
             },
             "line": {
              "color": "white"
             }
            },
            "header": {
             "fill": {
              "color": "#C8D4E3"
             },
             "line": {
              "color": "white"
             }
            },
            "type": "table"
           }
          ]
         },
         "layout": {
          "annotationdefaults": {
           "arrowcolor": "#2a3f5f",
           "arrowhead": 0,
           "arrowwidth": 1
          },
          "autotypenumbers": "strict",
          "coloraxis": {
           "colorbar": {
            "outlinewidth": 0,
            "ticks": ""
           }
          },
          "colorscale": {
           "diverging": [
            [
             0,
             "#8e0152"
            ],
            [
             0.1,
             "#c51b7d"
            ],
            [
             0.2,
             "#de77ae"
            ],
            [
             0.3,
             "#f1b6da"
            ],
            [
             0.4,
             "#fde0ef"
            ],
            [
             0.5,
             "#f7f7f7"
            ],
            [
             0.6,
             "#e6f5d0"
            ],
            [
             0.7,
             "#b8e186"
            ],
            [
             0.8,
             "#7fbc41"
            ],
            [
             0.9,
             "#4d9221"
            ],
            [
             1,
             "#276419"
            ]
           ],
           "sequential": [
            [
             0,
             "#0d0887"
            ],
            [
             0.1111111111111111,
             "#46039f"
            ],
            [
             0.2222222222222222,
             "#7201a8"
            ],
            [
             0.3333333333333333,
             "#9c179e"
            ],
            [
             0.4444444444444444,
             "#bd3786"
            ],
            [
             0.5555555555555556,
             "#d8576b"
            ],
            [
             0.6666666666666666,
             "#ed7953"
            ],
            [
             0.7777777777777778,
             "#fb9f3a"
            ],
            [
             0.8888888888888888,
             "#fdca26"
            ],
            [
             1,
             "#f0f921"
            ]
           ],
           "sequentialminus": [
            [
             0,
             "#0d0887"
            ],
            [
             0.1111111111111111,
             "#46039f"
            ],
            [
             0.2222222222222222,
             "#7201a8"
            ],
            [
             0.3333333333333333,
             "#9c179e"
            ],
            [
             0.4444444444444444,
             "#bd3786"
            ],
            [
             0.5555555555555556,
             "#d8576b"
            ],
            [
             0.6666666666666666,
             "#ed7953"
            ],
            [
             0.7777777777777778,
             "#fb9f3a"
            ],
            [
             0.8888888888888888,
             "#fdca26"
            ],
            [
             1,
             "#f0f921"
            ]
           ]
          },
          "colorway": [
           "#636efa",
           "#EF553B",
           "#00cc96",
           "#ab63fa",
           "#FFA15A",
           "#19d3f3",
           "#FF6692",
           "#B6E880",
           "#FF97FF",
           "#FECB52"
          ],
          "font": {
           "color": "#2a3f5f"
          },
          "geo": {
           "bgcolor": "white",
           "lakecolor": "white",
           "landcolor": "#E5ECF6",
           "showlakes": true,
           "showland": true,
           "subunitcolor": "white"
          },
          "hoverlabel": {
           "align": "left"
          },
          "hovermode": "closest",
          "mapbox": {
           "style": "light"
          },
          "paper_bgcolor": "white",
          "plot_bgcolor": "#E5ECF6",
          "polar": {
           "angularaxis": {
            "gridcolor": "white",
            "linecolor": "white",
            "ticks": ""
           },
           "bgcolor": "#E5ECF6",
           "radialaxis": {
            "gridcolor": "white",
            "linecolor": "white",
            "ticks": ""
           }
          },
          "scene": {
           "xaxis": {
            "backgroundcolor": "#E5ECF6",
            "gridcolor": "white",
            "gridwidth": 2,
            "linecolor": "white",
            "showbackground": true,
            "ticks": "",
            "zerolinecolor": "white"
           },
           "yaxis": {
            "backgroundcolor": "#E5ECF6",
            "gridcolor": "white",
            "gridwidth": 2,
            "linecolor": "white",
            "showbackground": true,
            "ticks": "",
            "zerolinecolor": "white"
           },
           "zaxis": {
            "backgroundcolor": "#E5ECF6",
            "gridcolor": "white",
            "gridwidth": 2,
            "linecolor": "white",
            "showbackground": true,
            "ticks": "",
            "zerolinecolor": "white"
           }
          },
          "shapedefaults": {
           "line": {
            "color": "#2a3f5f"
           }
          },
          "ternary": {
           "aaxis": {
            "gridcolor": "white",
            "linecolor": "white",
            "ticks": ""
           },
           "baxis": {
            "gridcolor": "white",
            "linecolor": "white",
            "ticks": ""
           },
           "bgcolor": "#E5ECF6",
           "caxis": {
            "gridcolor": "white",
            "linecolor": "white",
            "ticks": ""
           }
          },
          "title": {
           "x": 0.05
          },
          "xaxis": {
           "automargin": true,
           "gridcolor": "white",
           "linecolor": "white",
           "ticks": "",
           "title": {
            "standoff": 15
           },
           "zerolinecolor": "white",
           "zerolinewidth": 2
          },
          "yaxis": {
           "automargin": true,
           "gridcolor": "white",
           "linecolor": "white",
           "ticks": "",
           "title": {
            "standoff": 15
           },
           "zerolinecolor": "white",
           "zerolinewidth": 2
          }
         }
        },
        "xaxis": {
         "anchor": "y",
         "domain": [
          0,
          1
         ],
         "title": {
          "text": "Country"
         }
        },
        "yaxis": {
         "anchor": "x",
         "domain": [
          0,
          1
         ],
         "title": {
          "text": "total"
         }
        }
       }
      }
     },
     "metadata": {},
     "output_type": "display_data"
    }
   ],
   "source": [
    "px.line(mega, x = 'Country', y = 'total')"
   ]
  },
  {
   "cell_type": "code",
   "execution_count": null,
   "metadata": {},
   "outputs": [],
   "source": []
  }
 ],
 "metadata": {
  "interpreter": {
   "hash": "ad2bdc8ecc057115af97d19610ffacc2b4e99fae6737bb82f5d7fb13d2f2c186"
  },
  "kernelspec": {
   "display_name": "Python 3.8.8 ('base')",
   "language": "python",
   "name": "python3"
  },
  "language_info": {
   "codemirror_mode": {
    "name": "ipython",
    "version": 3
   },
   "file_extension": ".py",
   "mimetype": "text/x-python",
   "name": "python",
   "nbconvert_exporter": "python",
   "pygments_lexer": "ipython3",
   "version": "3.8.8"
  },
  "orig_nbformat": 4
 },
 "nbformat": 4,
 "nbformat_minor": 2
}
